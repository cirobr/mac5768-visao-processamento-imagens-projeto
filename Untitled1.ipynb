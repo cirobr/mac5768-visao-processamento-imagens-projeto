{
 "cells": [
  {
   "cell_type": "markdown",
   "metadata": {},
   "source": [
    "MAC 5768 - Visão e Processamento de Imagens\n",
    "\n",
    "Segundo Semestre - 2020\n",
    "\n",
    "Resumo de Projeto\n",
    "\n",
    "Equipe:\n",
    "\n",
    "    Ciro B Rosa - ciro.rosa@alumni.usp.br\n",
    "    Josilton Sousa - josilton.sousa@gmail.com\n",
    "\n",
    "Introdução\n",
    "\n",
    "Projeto de elaboração de tarefas do curso de Visão e Processamento de Imagens.\n",
    "\n",
    "Fase 1 - Entrega em 5/10/2020\n"
   ]
  }
 ],
 "metadata": {
  "kernelspec": {
   "display_name": "Python 3",
   "language": "python",
   "name": "python3"
  },
  "language_info": {
   "codemirror_mode": {
    "name": "ipython",
    "version": 3
   },
   "file_extension": ".py",
   "mimetype": "text/x-python",
   "name": "python",
   "nbconvert_exporter": "python",
   "pygments_lexer": "ipython3",
   "version": "3.8.5"
  }
 },
 "nbformat": 4,
 "nbformat_minor": 4
}
