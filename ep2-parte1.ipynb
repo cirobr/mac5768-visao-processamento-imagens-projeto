{
 "cells": [
  {
   "cell_type": "markdown",
   "metadata": {},
   "source": [
    "MAC 5768 - Visão e Processamento de Imagens\n",
    "\n",
    "Segundo Semestre - 2020\n",
    "\n",
    "Resumo de Projeto\n",
    "\n",
    "Equipe:\n",
    "\n",
    "    Ciro B Rosa - ciro.rosa@alumni.usp.br\n",
    "    Josilton Sousa - josilton.sousa@gmail.com\n",
    "\n",
    "Projeto de elaboração de tarefas do curso de Visão e Processamento de Imagens.\n",
    "\n",
    "\n",
    "Fase 2 - Parte 1 - Entrega em 9/11/2020\n",
    "\n",
    "Objetivos:\n",
    "* A partir de 1080 fotos coloridas de 10 categorias de objetos (originalDataset), criar duplicatas em escala de cinza e armazená-las na pasta originalGrayDataset.\n",
    "* A partir das imagens em escala cinza, obter um dataset aumentado e armazenar em augmentedDataset.\n",
    "\n",
    "As funções para geração do augmentedDataset são:\n",
    "* Escala de cinza\n",
    "* Soma do fundo da imagem (gradiente) com a imagem cinza\n",
    "* Log2 da imagem cinza\n",
    "* Função Gama (exponencial da imagem)\n",
    "* Média e convolução, com o uso de janela uniforme 3x3.\n"
   ]
  },
  {
   "cell_type": "markdown",
   "metadata": {},
   "source": [
    "Código para geração do originalGrayDataset a partir do originalDataset\n",
    "\n",
    "Este código terá as seguintes funções:\n",
    "* Leitura dos metadados originais\n",
    "* Geração de imagens em escala cinza\n",
    "* Criação de metadados específicos para as imagens geradas\n",
    "* Gravação de dados em originalGrayDataset"
   ]
  },
  {
   "cell_type": "code",
   "execution_count": null,
   "metadata": {},
   "outputs": [],
   "source": []
  }
 ],
 "metadata": {
  "kernelspec": {
   "display_name": "Python 3",
   "language": "python",
   "name": "python3"
  },
  "language_info": {
   "codemirror_mode": {
    "name": "ipython",
    "version": 3
   },
   "file_extension": ".py",
   "mimetype": "text/x-python",
   "name": "python",
   "nbconvert_exporter": "python",
   "pygments_lexer": "ipython3",
   "version": "3.8.5"
  }
 },
 "nbformat": 4,
 "nbformat_minor": 4
}
