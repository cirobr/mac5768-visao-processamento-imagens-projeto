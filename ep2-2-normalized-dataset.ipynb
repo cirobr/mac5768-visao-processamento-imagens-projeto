{
 "cells": [
  {
   "cell_type": "markdown",
   "metadata": {},
   "source": [
    "MAC 5768 - Visão e Processamento de Imagens\n",
    "\n",
    "Segundo Semestre - 2020\n",
    "\n",
    "Equipe:\n",
    "\n",
    "    Ciro B Rosa - ciro.rosa@alumni.usp.br\n",
    "    Josilton Sousa - josilton.sousa@gmail.com\n",
    "\n",
    "Projeto de elaboração de tarefas do curso de Visão e Processamento de Imagens.\n",
    "\n",
    "\n",
    "Fase 2 - Parte 2 - Entrega em 16/11/2020\n",
    "\n",
    "Objetivos:\n",
    "* Gerar um \"normalizedGrayDataset\" a partir do \"originalGrayDataset\"\n",
    "* Gerar um \"normalizedAugmentedDataset\" a partir do \"augmentedDataset\".\n"
   ]
  },
  {
   "cell_type": "markdown",
   "metadata": {},
   "source": [
    "O código a seguir gera a partir do \"originalGrayDataset\" um conjunto de imagens normalizadas, arquivando-as em \"normalizedGrayDataset\"."
   ]
  },
  {
   "cell_type": "code",
   "execution_count": 1,
   "metadata": {},
   "outputs": [
    {
     "name": "stdout",
     "output_type": "stream",
     "text": [
      "   sequencia objeto tipo_obj   fundo  iluminacao     transformacao  \\\n",
      "0          1  garfo        a  branco  indoor dia  normalized cinza   \n",
      "1          2  garfo        a  branco  indoor dia  normalized cinza   \n",
      "2          3  garfo        a  branco  indoor dia  normalized cinza   \n",
      "3          1   faca        a  branco  indoor dia  normalized cinza   \n",
      "4          2   faca        a  branco  indoor dia  normalized cinza   \n",
      "\n",
      "  responsavel   arquivo  \n",
      "0    Josilton  1081.jpg  \n",
      "1    Josilton  1082.jpg  \n",
      "2    Josilton  1083.jpg  \n",
      "3    Josilton  1084.jpg  \n",
      "4    Josilton  1085.jpg   \n",
      "\n"
     ]
    }
   ],
   "source": [
    "import os\n",
    "from skimage import io\n",
    "from skimage import exposure\n",
    "from skimage.util import img_as_ubyte\n",
    "import pandas as pd\n",
    "\n",
    "\n",
    "# arquivo de entrada\n",
    "pasta1 = \"originalGrayDataset\"\n",
    "metafile1 = \"grade.csv\"\n",
    "filename1 = pasta1 + \"/\" + metafile1\n",
    "\n",
    "# arquivo de saída normalizada\n",
    "pasta2 = \"normalizedGrayDataset\"\n",
    "metafile2 = \"grade.csv\"\n",
    "filename2 = pasta2 + \"/\" + metafile2\n",
    "\n",
    "# normalização de fotos\n",
    "lista_fotos = os.listdir(pasta1)\n",
    "for nome_foto in lista_fotos:\n",
    "    \n",
    "    if \".csv\" in nome_foto:\n",
    "        continue\n",
    "\n",
    "    fullname1 = pasta1 + '/' + nome_foto\n",
    "    img = io.imread(fullname1)\n",
    "    img_norm = exposure.equalize_hist(img, nbins = 256)\n",
    "    img_norm2 = img_as_ubyte(img_norm)\n",
    "    \n",
    "    # salvar foto gerada\n",
    "    fullname2 = pasta2 + '/' + nome_foto\n",
    "    io.imsave(fullname2, img_norm2)\n",
    "\n",
    "    # roda o loop apenas uma vez\n",
    "    #break\n",
    "    \n",
    "# gerar metadados normalizados\n",
    "df = pd.read_csv(filename1, sep=\";\")\n",
    "\n",
    "df2 = pd.DataFrame(df)\n",
    "for ind in df2.index:\n",
    "    df2.transformacao = \"normalized cinza\"\n",
    "print(df2.head(5), \"\\n\")\n",
    "df2.to_csv(filename2, index = False, header=True, sep=\";\")\n"
   ]
  },
  {
   "cell_type": "markdown",
   "metadata": {},
   "source": [
    "De forma similar, o código a seguir gera a partir de \"augmentedDataset\" um conjunto de imagens normalizadas, arquivando-as em \"normalizedAugmentedDataset\"."
   ]
  },
  {
   "cell_type": "code",
   "execution_count": 2,
   "metadata": {},
   "outputs": [
    {
     "name": "stderr",
     "output_type": "stream",
     "text": [
      "<ipython-input-2-220ca58225e6>:32: UserWarning: normalizedAugmentedDataset/2238.jpg is a low contrast image\n",
      "  io.imsave(fullname2, img_norm2)\n",
      "<ipython-input-2-220ca58225e6>:32: UserWarning: normalizedAugmentedDataset/3334.jpg is a low contrast image\n",
      "  io.imsave(fullname2, img_norm2)\n",
      "<ipython-input-2-220ca58225e6>:32: UserWarning: normalizedAugmentedDataset/4394.jpg is a low contrast image\n",
      "  io.imsave(fullname2, img_norm2)\n",
      "<ipython-input-2-220ca58225e6>:32: UserWarning: normalizedAugmentedDataset/2242.jpg is a low contrast image\n",
      "  io.imsave(fullname2, img_norm2)\n",
      "<ipython-input-2-220ca58225e6>:32: UserWarning: normalizedAugmentedDataset/2234.jpg is a low contrast image\n",
      "  io.imsave(fullname2, img_norm2)\n",
      "<ipython-input-2-220ca58225e6>:32: UserWarning: normalizedAugmentedDataset/3330.jpg is a low contrast image\n",
      "  io.imsave(fullname2, img_norm2)\n",
      "<ipython-input-2-220ca58225e6>:32: UserWarning: normalizedAugmentedDataset/4398.jpg is a low contrast image\n",
      "  io.imsave(fullname2, img_norm2)\n",
      "<ipython-input-2-220ca58225e6>:32: UserWarning: normalizedAugmentedDataset/5474.jpg is a low contrast image\n",
      "  io.imsave(fullname2, img_norm2)\n",
      "<ipython-input-2-220ca58225e6>:32: UserWarning: normalizedAugmentedDataset/5482.jpg is a low contrast image\n",
      "  io.imsave(fullname2, img_norm2)\n",
      "<ipython-input-2-220ca58225e6>:32: UserWarning: normalizedAugmentedDataset/5478.jpg is a low contrast image\n",
      "  io.imsave(fullname2, img_norm2)\n"
     ]
    },
    {
     "name": "stdout",
     "output_type": "stream",
     "text": [
      "   sequencia objeto tipo_obj   fundo  iluminacao     transformacao  \\\n",
      "0          1  garfo        a  branco  indoor dia  normalized cinza   \n",
      "1          2  garfo        a  branco  indoor dia  normalized cinza   \n",
      "2          3  garfo        a  branco  indoor dia  normalized cinza   \n",
      "3          1   faca        a  branco  indoor dia  normalized cinza   \n",
      "4          2   faca        a  branco  indoor dia  normalized cinza   \n",
      "\n",
      "  responsavel   arquivo  \n",
      "0    Josilton  1081.jpg  \n",
      "1    Josilton  1082.jpg  \n",
      "2    Josilton  1083.jpg  \n",
      "3    Josilton  1084.jpg  \n",
      "4    Josilton  1085.jpg   \n",
      "\n"
     ]
    }
   ],
   "source": [
    "import os\n",
    "from skimage import io\n",
    "from skimage import exposure\n",
    "from skimage.util import img_as_ubyte\n",
    "import pandas as pd\n",
    "\n",
    "\n",
    "# arquivo de entrada\n",
    "pasta1 = \"augmentedDataset\"\n",
    "metafile1 = \"grade.csv\"\n",
    "filename1 = pasta1 + \"/\" + metafile1\n",
    "\n",
    "# arquivo de saída normalizada\n",
    "pasta2 = \"normalizedAugmentedDataset\"\n",
    "metafile2 = \"grade.csv\"\n",
    "filename2 = pasta2 + \"/\" + metafile2\n",
    "\n",
    "# normalização de fotos\n",
    "lista_fotos = os.listdir(pasta1)\n",
    "for nome_foto in lista_fotos:\n",
    "    \n",
    "    if \".csv\" in nome_foto:\n",
    "        continue\n",
    "\n",
    "    fullname1 = pasta1 + '/' + nome_foto\n",
    "    img = io.imread(fullname1)\n",
    "    img_norm = exposure.equalize_hist(img, nbins = 256)\n",
    "    img_norm2 = img_as_ubyte(img_norm)\n",
    "    \n",
    "    # salvar foto gerada\n",
    "    fullname2 = pasta2 + '/' + nome_foto\n",
    "    io.imsave(fullname2, img_norm2)\n",
    "\n",
    "    # roda o loop apenas uma vez\n",
    "    #break\n",
    "    \n",
    "# gerar metadados normalizados\n",
    "df = pd.read_csv(filename1, sep=\";\")\n",
    "\n",
    "df2 = pd.DataFrame(df)\n",
    "for ind in df2.index:\n",
    "    df2.transformacao = \"normalized cinza\"\n",
    "print(df2.head(5), \"\\n\")\n",
    "df2.to_csv(filename2, index = False, header=True, sep=\";\")\n"
   ]
  },
  {
   "cell_type": "code",
   "execution_count": null,
   "metadata": {},
   "outputs": [],
   "source": []
  }
 ],
 "metadata": {
  "kernelspec": {
   "display_name": "Python 3",
   "language": "python",
   "name": "python3"
  },
  "language_info": {
   "codemirror_mode": {
    "name": "ipython",
    "version": 3
   },
   "file_extension": ".py",
   "mimetype": "text/x-python",
   "name": "python",
   "nbconvert_exporter": "python",
   "pygments_lexer": "ipython3",
   "version": "3.8.5"
  }
 },
 "nbformat": 4,
 "nbformat_minor": 4
}
