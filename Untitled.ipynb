{
 "cells": [
  {
   "cell_type": "markdown",
   "metadata": {},
   "source": [
    "MAC 5768 - Visão e Processamento de Imagens\n",
    "\n",
    "Segundo Semestre - 2020\n",
    "\n",
    "Equipe:\n",
    "\n",
    "    Ciro B Rosa - ciro.rosa@alumni.usp.br\n",
    "    Josilton Sousa - josilton.sousa@gmail.com\n",
    "\n",
    "Projeto de elaboração de tarefas do curso de Visão e Processamento de Imagens.\n",
    "\n",
    "\n",
    "Fase 3 - Parte 1 - Entrega em 19/01/2021\n",
    "\n",
    "Objetivos:\n",
    "* Geração de arquivo \"thresholdManual\" contendo pelo menos 15% * 1080 = 162 fotos segmentadas manualmente (Ground Truth) a partir do \"originalGrayDataset\".\n",
    "* Geração de arquivo contendo todas as fotos do \"originalGrayDataset\" segmentadas automaticamente. Para esta etapa, a equipe decidiu por utilizar dois algoritmos para segmentação automática, escolhidos empiricamente: Otsu e Yen. Desta forma, as pastas \"thresholdOtsu\" e \"thresholdYen\" serão geradas.\n"
   ]
  },
  {
   "cell_type": "markdown",
   "metadata": {},
   "source": [
    "Segmentação Manual:\n",
    "\n",
    "O código abaixo apresenta as fotos segmentadas manualmente, contidas na pasta \"thresholdManual\". A segmentação foi obtida com o uso do software Gimp."
   ]
  }
 ],
 "metadata": {
  "kernelspec": {
   "display_name": "Python 3",
   "language": "python",
   "name": "python3"
  },
  "language_info": {
   "codemirror_mode": {
    "name": "ipython",
    "version": 3
   },
   "file_extension": ".py",
   "mimetype": "text/x-python",
   "name": "python",
   "nbconvert_exporter": "python",
   "pygments_lexer": "ipython3",
   "version": "3.8.5"
  }
 },
 "nbformat": 4,
 "nbformat_minor": 4
}
